{
 "cells": [
  {
   "cell_type": "code",
   "execution_count": 1,
   "metadata": {},
   "outputs": [],
   "source": [
    "job_desc = \"\"\"We're looking for a Data Scientist/Machine Learning Engineer with a wide range of competencies. Rainforest is changing the way people do QA and data is at the heart of how we do that. From crowd management and fraud detection to data visualization and automation research, there are myriad opportunities to use your creativity and technical skills.\n",
    "\n",
    "We are looking for someone who learns quickly and is a great communicator. Since we are a remote, distributed development team, decent writing skills and(over)communication is important to us. You can be based anywhere in the world (including San Francisco, where our HQ is located).\n",
    "\n",
    "We regularly send our data scientists to conferences, both to speak and just learn (e.g. last year we went to NIPS and KDD, this year to Europython and a couple of PyDatas). You can read about some of our work on predicting test run durations and how Kaggle can be useful in the real world. And hear some of our team members speak on the topic of Women, Company Culture, and Remote Teams here.\n",
    "What you’ll do\n",
    "Experiment with the latest algorithms in computer vision, reinforcement learning and various supervised learning problems\n",
    "Design, develop, and own ML products from brainstorming to speccing, implementation and maintenance\n",
    "Research visual understanding of images, including classification, semantic segmentation, and OCR.  Develop new computer-vision based products with humans-in-the-loop\n",
    "Ship improvements to existing products daily (we practice fast iterations and CI)\n",
    "Work on fraud detection in crowdsourcing tasks\n",
    "Dive into our tester management algorithms and look for ways you can improve them\n",
    "Experiment with NLP to interpret our natural-language test cases\n",
    "Develop a deep understanding of Rainforest products and empathy for our customers\n",
    "Use your SQL and visualization skills to analyze and answer questions about our product and the way people use it\n",
    "What we’re looking for\n",
    "Knowledge of common data science concepts: different kinds of learning algorithms, ability to validate assumptions in a principled way and to discover correlations and to come up with a defensible experimental design to validate a hypothesis\n",
    "Knowledge of Python including the scientific stack (numpy, scipy, matplotlib, pandas, scikit-learn etc.).\n",
    "TensorFlow/Keras (though if you're already playing with PyTorch we'd gladly learn from you instead!)\n",
    "Enough SQL to efficiently get the data you need from a relational DB\n",
    "Basic knowledge of how the web works: HTTP, web servers, databases. Ability to build a simple CRUD app.\n",
    "Comfort in using the Unix command line and git\n",
    "Curiosity and motivation to think outside the box. When a colleague asks a data-related question, you're the type to try and understand what their underlying problem is and come up with a suitable solution (whether or not it can be solved with data).\n",
    "Someone who stays up-to-date with the latest research in ML/AI, can chat about what they think the next breakthrough will be, and can point to a recent paper that they enjoyed reading\n",
    "Bonus Points For:\n",
    "First-hand experience with designing, building and shipping Deep Learning-based models to production\n",
    "How we’ll reward you (SF)\n",
    "Competitive compensation and stock options\n",
    "100% Medical, dental, and vision insurance covered (75% for dependents)\n",
    "Daily catered lunch and snacks\n",
    "Subsidized commuter benefits\n",
    "Voluntary 401 k program\n",
    "Generous vacation time\n",
    "Professional development, in-office career coaching, and conference attendance\n",
    "Dog friendly offices\n",
    "Weekly team activities like happy hours, in-office yoga, and much more\n",
    "How we’ll reward you (Remote)\n",
    "Flexible, remote work options\n",
    "Generous vacation time\n",
    "Competitive compensation and stock options\n",
    "Voluntary 401 k program (US only)\n",
    "100% Medical, dental, and vision insurance covered (US only)\n",
    "Professional development, career coaching, and conference attendance\n",
    "3x per year onsites- we’ll fly you into our beautiful San Francisco office to spend quality time with your teammates!\n",
    "OUR COMMITMENT TO DIVERSITY AND INCLUSION\n",
    "\n",
    "At Rainforest QA we believe that diverse teams improve our business. We are an equal opportunity employer and do not discriminate on the basis of race, religion, color, nationality, gender, sexual orientation, age, marital status, veteran status, or disability status.\"\"\""
   ]
  },
  {
   "cell_type": "code",
   "execution_count": 2,
   "metadata": {},
   "outputs": [
    {
     "name": "stdout",
     "output_type": "stream",
     "text": [
      "The median 'word' length in the job description is:  5.0\n"
     ]
    }
   ],
   "source": [
    "import re\n",
    "import pandas as pd\n",
    "\n",
    "words = re.split(r\"\\s+\", job_desc)\n",
    "word_lengths = pd.Series(words).str.len()\n",
    "\n",
    "print (\"The median 'word' length in the job description is: \", word_lengths.median())"
   ]
  }
 ],
 "metadata": {
  "kernelspec": {
   "display_name": "Python 3",
   "language": "python",
   "name": "python3"
  },
  "language_info": {
   "codemirror_mode": {
    "name": "ipython",
    "version": 3
   },
   "file_extension": ".py",
   "mimetype": "text/x-python",
   "name": "python",
   "nbconvert_exporter": "python",
   "pygments_lexer": "ipython3",
   "version": "3.6.1"
  }
 },
 "nbformat": 4,
 "nbformat_minor": 2
}
